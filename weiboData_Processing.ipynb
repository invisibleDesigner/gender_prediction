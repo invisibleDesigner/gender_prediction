{
 "cells": [
  {
   "cell_type": "markdown",
   "metadata": {},
   "source": [
    "# 新浪微博用户画像之数据预处理"
   ]
  },
  {
   "cell_type": "markdown",
   "metadata": {},
   "source": [
    "---\n",
    "** 记录程序时间 **\n",
    "\n",
    "---"
   ]
  },
  {
   "cell_type": "code",
   "execution_count": 1,
   "metadata": {},
   "outputs": [],
   "source": [
    "import datetime\n",
    "startTime = datetime.datetime.now()"
   ]
  },
  {
   "cell_type": "markdown",
   "metadata": {},
   "source": [
    "## 1. 导入库"
   ]
  },
  {
   "cell_type": "code",
   "execution_count": 2,
   "metadata": {},
   "outputs": [],
   "source": [
    "import pandas as pd"
   ]
  },
  {
   "cell_type": "markdown",
   "metadata": {},
   "source": [
    "## 2. 导入数据"
   ]
  },
  {
   "cell_type": "code",
   "execution_count": 3,
   "metadata": {},
   "outputs": [],
   "source": [
    "user_info = pd.read_csv(\"E:\\data_analysis\\Graduation design\\data\\weibo_users.csv\")\n",
    "weibo_info_reader = pd.read_csv(\"E:\\data_analysis\\Graduation design\\data\\weibodata.csv\", iterator=True, \\\n",
    "                            names = ['user_id', 'reposts_count', 'comment_count', 'source', 'created_at', 'text'])\n",
    "weibo_info = weibo_info_reader.get_chunk(10000)"
   ]
  },
  {
   "cell_type": "code",
   "execution_count": 20,
   "metadata": {},
   "outputs": [
    {
     "name": "stdout",
     "output_type": "stream",
     "text": [
      "<class 'pandas.core.frame.DataFrame'>\n",
      "RangeIndex: 2611090 entries, 0 to 2611089\n",
      "Data columns (total 7 columns):\n",
      "index          int64\n",
      "verified       bool\n",
      "name           object\n",
      "gender         object\n",
      "location       object\n",
      "user_id        int64\n",
      "description    object\n",
      "dtypes: bool(1), int64(2), object(4)\n",
      "memory usage: 122.0+ MB\n"
     ]
    }
   ],
   "source": [
    "user_info.info()"
   ]
  },
  {
   "cell_type": "markdown",
   "metadata": {},
   "source": [
    "## 3. 数据预处理\n",
    "> 3.1 微博数据时间数值转换\n",
    "\n",
    "> 3.2 微博数据按用户id分组聚合\n",
    "\n",
    "> 3.3 用户数据去重\n",
    "\n",
    "> 3.4 用户数据地域数值转换\n",
    "\n",
    "> 3.5 微博数据和用户数据合并\n",
    "\n",
    "> 3.6 导出数据"
   ]
  },
  {
   "cell_type": "code",
   "execution_count": 5,
   "metadata": {},
   "outputs": [],
   "source": [
    "# 创建时间转换函数\n",
    "def time_transform(df):\n",
    "    for row in range(df.shape[0]):\n",
    "        hour = pd.to_datetime(df['created_at'][row]).hour\n",
    "        if 0 <= hour <= 8:\n",
    "            df.at[row, 'timeRating'] = 9\n",
    "        elif 9 <= hour <= 13:\n",
    "            df.at[row, 'timeRating'] = 1\n",
    "        elif 14 <= hour <= 18:\n",
    "            df.at[row, 'timeRating'] = 2\n",
    "        elif 19 <= hour <= 23:\n",
    "            df.at[row, 'timeRating'] = 5\n",
    "    return df\n",
    "\n",
    "# 分组聚合，再重组\n",
    "def group_text(df):\n",
    "    df = df.groupby('user_id').sum()\n",
    "    df = df.reset_index()\n",
    "    return df\n",
    "def group_Rcc(df):\n",
    "    df = df.groupby('user_id').mean()\n",
    "    df = df.reset_index()\n",
    "    return df\n",
    "def combine_RccText(df):\n",
    "    return pd.merge(group_Rcc(df), group_text(df[['user_id', 'text']]), on='user_id')"
   ]
  },
  {
   "cell_type": "markdown",
   "metadata": {},
   "source": [
    "#### 微博时间数据转换与分组聚合"
   ]
  },
  {
   "cell_type": "code",
   "execution_count": 6,
   "metadata": {},
   "outputs": [],
   "source": [
    "weibo_Prepared = combine_RccText(time_transform(weibo_info))\n",
    "for i in range(3):\n",
    "    weibo_info = weibo_info_reader.get_chunk(100000).reset_index()\n",
    "    temp = combine_RccText( time_transform(weibo_info) )\n",
    "    weibo_Prepared = pd.concat([temp, weibo_Prepared])\n",
    "weibo_Prepared = combine_RccText(weibo_Prepared)"
   ]
  },
  {
   "cell_type": "code",
   "execution_count": 7,
   "metadata": {},
   "outputs": [],
   "source": [
    "location_Dict = {'河北': 1, '山西': 2, '内蒙': 3, '黑龙': 4, '吉林': 5, '辽宁': 6, '陕西': 7, '甘肃': 8,\\\n",
    "                 '青海': 9, '新疆': 10, '维吾': 11, '宁夏': 12, '山东': 13, '河南': 14, '江苏': 15, '浙江': 16,\\\n",
    "                 '安徽': 17, '江西': 18, '福建': 19, '台湾': 20, '湖北': 21, '湖南': 22, '广东': 23, '广西': 24,\\\n",
    "                 '海南': 25, '四川': 26, '云南': 27, '贵州': 28, '西藏': 29, '重庆': 30, '天津': 31, '上海':32,\\\n",
    "                 '北京': 33, '香港': 34, '澳门': 35, '海外': 36, '其他': 37}"
   ]
  },
  {
   "cell_type": "code",
   "execution_count": 8,
   "metadata": {},
   "outputs": [
    {
     "data": {
      "text/html": [
       "<div>\n",
       "<style>\n",
       "    .dataframe thead tr:only-child th {\n",
       "        text-align: right;\n",
       "    }\n",
       "\n",
       "    .dataframe thead th {\n",
       "        text-align: left;\n",
       "    }\n",
       "\n",
       "    .dataframe tbody tr th {\n",
       "        vertical-align: top;\n",
       "    }\n",
       "</style>\n",
       "<table border=\"1\" class=\"dataframe\">\n",
       "  <thead>\n",
       "    <tr style=\"text-align: right;\">\n",
       "      <th></th>\n",
       "      <th>user_id</th>\n",
       "      <th>comment_count</th>\n",
       "      <th>index</th>\n",
       "      <th>reposts_count</th>\n",
       "      <th>timeRating</th>\n",
       "      <th>text</th>\n",
       "    </tr>\n",
       "  </thead>\n",
       "  <tbody>\n",
       "    <tr>\n",
       "      <th>0</th>\n",
       "      <td>1427583973</td>\n",
       "      <td>0.324443</td>\n",
       "      <td>18203.922747</td>\n",
       "      <td>0.324443</td>\n",
       "      <td>3.503905</td>\n",
       "      <td>“雅思口语评分标准”共5讲，5个视频，由新东方谢绍东老师主讲。课程主要内容包括“雅思口语评分...</td>\n",
       "    </tr>\n",
       "    <tr>\n",
       "      <th>1</th>\n",
       "      <td>1427587605</td>\n",
       "      <td>1.333277</td>\n",
       "      <td>16720.354136</td>\n",
       "      <td>1.333277</td>\n",
       "      <td>3.504647</td>\n",
       "      <td>MD，人类早晚要被吃货给毁了！//@编剧肖言: 还能再狠点儿吗，这群臭SB不怕报应就吃吧//...</td>\n",
       "    </tr>\n",
       "    <tr>\n",
       "      <th>2</th>\n",
       "      <td>1427589977</td>\n",
       "      <td>0.091503</td>\n",
       "      <td>NaN</td>\n",
       "      <td>0.091503</td>\n",
       "      <td>3.457516</td>\n",
       "      <td>大家帮忙投下C组冯湲http://t.cn/zjxrUmM我参与了@小银星艺术团 发起的投票...</td>\n",
       "    </tr>\n",
       "    <tr>\n",
       "      <th>3</th>\n",
       "      <td>1427590831</td>\n",
       "      <td>0.302523</td>\n",
       "      <td>60721.087617</td>\n",
       "      <td>0.302523</td>\n",
       "      <td>3.564042</td>\n",
       "      <td>等变潇洒哥了的时候我们也包个场@ACE大卫 @吉o0snake 这货今天喝大了打球头疼算怎么...</td>\n",
       "    </tr>\n",
       "    <tr>\n",
       "      <th>4</th>\n",
       "      <td>1427591573</td>\n",
       "      <td>0.130364</td>\n",
       "      <td>97834.287879</td>\n",
       "      <td>0.130364</td>\n",
       "      <td>4.935154</td>\n",
       "      <td>哈哈，太好玩了一万年，这世上没人比她好 看看大家怎么说&gt;&gt;http://t.cn/zW4VG...</td>\n",
       "    </tr>\n",
       "  </tbody>\n",
       "</table>\n",
       "</div>"
      ],
      "text/plain": [
       "      user_id  comment_count         index  reposts_count  timeRating  \\\n",
       "0  1427583973       0.324443  18203.922747       0.324443    3.503905   \n",
       "1  1427587605       1.333277  16720.354136       1.333277    3.504647   \n",
       "2  1427589977       0.091503           NaN       0.091503    3.457516   \n",
       "3  1427590831       0.302523  60721.087617       0.302523    3.564042   \n",
       "4  1427591573       0.130364  97834.287879       0.130364    4.935154   \n",
       "\n",
       "                                                text  \n",
       "0  “雅思口语评分标准”共5讲，5个视频，由新东方谢绍东老师主讲。课程主要内容包括“雅思口语评分...  \n",
       "1  MD，人类早晚要被吃货给毁了！//@编剧肖言: 还能再狠点儿吗，这群臭SB不怕报应就吃吧//...  \n",
       "2  大家帮忙投下C组冯湲http://t.cn/zjxrUmM我参与了@小银星艺术团 发起的投票...  \n",
       "3  等变潇洒哥了的时候我们也包个场@ACE大卫 @吉o0snake 这货今天喝大了打球头疼算怎么...  \n",
       "4  哈哈，太好玩了一万年，这世上没人比她好 看看大家怎么说>>http://t.cn/zW4VG...  "
      ]
     },
     "execution_count": 8,
     "metadata": {},
     "output_type": "execute_result"
    }
   ],
   "source": [
    "weibo_Prepared.head()"
   ]
  },
  {
   "cell_type": "markdown",
   "metadata": {},
   "source": [
    "#### 用户数据去重与用户地域数值转换"
   ]
  },
  {
   "cell_type": "code",
   "execution_count": 9,
   "metadata": {},
   "outputs": [],
   "source": [
    "# 用户数据去重\n",
    "user_info = user_info.drop_duplicates(['user_id']).reset_index()\n",
    "# 两表合并\n",
    "full = pd.merge(weibo_Prepared, user_info[['user_id', 'location', 'gender']], on = 'user_id')\n",
    "# 地域评分\n",
    "full.loc[:, 'location'] = list(map(lambda x: location_Dict[x[0:2]], full.loc[: , 'location']))"
   ]
  },
  {
   "cell_type": "code",
   "execution_count": 10,
   "metadata": {},
   "outputs": [
    {
     "data": {
      "text/html": [
       "<div>\n",
       "<style>\n",
       "    .dataframe thead tr:only-child th {\n",
       "        text-align: right;\n",
       "    }\n",
       "\n",
       "    .dataframe thead th {\n",
       "        text-align: left;\n",
       "    }\n",
       "\n",
       "    .dataframe tbody tr th {\n",
       "        vertical-align: top;\n",
       "    }\n",
       "</style>\n",
       "<table border=\"1\" class=\"dataframe\">\n",
       "  <thead>\n",
       "    <tr style=\"text-align: right;\">\n",
       "      <th></th>\n",
       "      <th>index</th>\n",
       "      <th>verified</th>\n",
       "      <th>name</th>\n",
       "      <th>gender</th>\n",
       "      <th>location</th>\n",
       "      <th>user_id</th>\n",
       "      <th>description</th>\n",
       "    </tr>\n",
       "  </thead>\n",
       "  <tbody>\n",
       "    <tr>\n",
       "      <th>0</th>\n",
       "      <td>0</td>\n",
       "      <td>False</td>\n",
       "      <td>小神万里</td>\n",
       "      <td>m</td>\n",
       "      <td>湖北 武汉</td>\n",
       "      <td>44528425</td>\n",
       "      <td>农民</td>\n",
       "    </tr>\n",
       "    <tr>\n",
       "      <th>1</th>\n",
       "      <td>1</td>\n",
       "      <td>False</td>\n",
       "      <td>咯咯spy</td>\n",
       "      <td>m</td>\n",
       "      <td>江苏 扬州</td>\n",
       "      <td>44550011</td>\n",
       "      <td>NaN</td>\n",
       "    </tr>\n",
       "    <tr>\n",
       "      <th>2</th>\n",
       "      <td>2</td>\n",
       "      <td>False</td>\n",
       "      <td>魔魅小妖</td>\n",
       "      <td>m</td>\n",
       "      <td>辽宁 大连</td>\n",
       "      <td>44566544</td>\n",
       "      <td>NaN</td>\n",
       "    </tr>\n",
       "    <tr>\n",
       "      <th>3</th>\n",
       "      <td>3</td>\n",
       "      <td>False</td>\n",
       "      <td>moyan919</td>\n",
       "      <td>m</td>\n",
       "      <td>宁夏 石嘴山</td>\n",
       "      <td>44596787</td>\n",
       "      <td>NaN</td>\n",
       "    </tr>\n",
       "    <tr>\n",
       "      <th>4</th>\n",
       "      <td>4</td>\n",
       "      <td>False</td>\n",
       "      <td>其林</td>\n",
       "      <td>m</td>\n",
       "      <td>甘肃 陇南</td>\n",
       "      <td>44608380</td>\n",
       "      <td>NaN</td>\n",
       "    </tr>\n",
       "  </tbody>\n",
       "</table>\n",
       "</div>"
      ],
      "text/plain": [
       "   index  verified      name gender location   user_id description\n",
       "0      0     False      小神万里      m    湖北 武汉  44528425          农民\n",
       "1      1     False     咯咯spy      m    江苏 扬州  44550011         NaN\n",
       "2      2     False      魔魅小妖      m    辽宁 大连  44566544         NaN\n",
       "3      3     False  moyan919      m   宁夏 石嘴山  44596787         NaN\n",
       "4      4     False        其林      m    甘肃 陇南  44608380         NaN"
      ]
     },
     "execution_count": 10,
     "metadata": {},
     "output_type": "execute_result"
    }
   ],
   "source": [
    "user_info.head()"
   ]
  },
  {
   "cell_type": "markdown",
   "metadata": {},
   "source": [
    "#### 用户数据和微博数据的合并"
   ]
  },
  {
   "cell_type": "code",
   "execution_count": 11,
   "metadata": {},
   "outputs": [],
   "source": [
    "full.rename(columns={'location': 'locaRating'}, inplace = True)\n",
    "full = full[['user_id', 'comment_count', 'reposts_count', 'timeRating', 'locaRating', 'text', 'gender']]\n",
    "\n",
    "#处理空text\n",
    "full = full.dropna().reset_index()\n",
    "del full['index']"
   ]
  },
  {
   "cell_type": "code",
   "execution_count": 12,
   "metadata": {},
   "outputs": [
    {
     "data": {
      "text/html": [
       "<div>\n",
       "<style>\n",
       "    .dataframe thead tr:only-child th {\n",
       "        text-align: right;\n",
       "    }\n",
       "\n",
       "    .dataframe thead th {\n",
       "        text-align: left;\n",
       "    }\n",
       "\n",
       "    .dataframe tbody tr th {\n",
       "        vertical-align: top;\n",
       "    }\n",
       "</style>\n",
       "<table border=\"1\" class=\"dataframe\">\n",
       "  <thead>\n",
       "    <tr style=\"text-align: right;\">\n",
       "      <th></th>\n",
       "      <th>user_id</th>\n",
       "      <th>comment_count</th>\n",
       "      <th>reposts_count</th>\n",
       "      <th>timeRating</th>\n",
       "      <th>locaRating</th>\n",
       "      <th>text</th>\n",
       "      <th>gender</th>\n",
       "    </tr>\n",
       "  </thead>\n",
       "  <tbody>\n",
       "    <tr>\n",
       "      <th>0</th>\n",
       "      <td>1427583973</td>\n",
       "      <td>0.324443</td>\n",
       "      <td>0.324443</td>\n",
       "      <td>3.503905</td>\n",
       "      <td>33</td>\n",
       "      <td>“雅思口语评分标准”共5讲，5个视频，由新东方谢绍东老师主讲。课程主要内容包括“雅思口语评分...</td>\n",
       "      <td>m</td>\n",
       "    </tr>\n",
       "    <tr>\n",
       "      <th>1</th>\n",
       "      <td>1427587605</td>\n",
       "      <td>1.333277</td>\n",
       "      <td>1.333277</td>\n",
       "      <td>3.504647</td>\n",
       "      <td>33</td>\n",
       "      <td>MD，人类早晚要被吃货给毁了！//@编剧肖言: 还能再狠点儿吗，这群臭SB不怕报应就吃吧//...</td>\n",
       "      <td>m</td>\n",
       "    </tr>\n",
       "    <tr>\n",
       "      <th>2</th>\n",
       "      <td>1427589977</td>\n",
       "      <td>0.091503</td>\n",
       "      <td>0.091503</td>\n",
       "      <td>3.457516</td>\n",
       "      <td>15</td>\n",
       "      <td>大家帮忙投下C组冯湲http://t.cn/zjxrUmM我参与了@小银星艺术团 发起的投票...</td>\n",
       "      <td>m</td>\n",
       "    </tr>\n",
       "    <tr>\n",
       "      <th>3</th>\n",
       "      <td>1427590831</td>\n",
       "      <td>0.302523</td>\n",
       "      <td>0.302523</td>\n",
       "      <td>3.564042</td>\n",
       "      <td>32</td>\n",
       "      <td>等变潇洒哥了的时候我们也包个场@ACE大卫 @吉o0snake 这货今天喝大了打球头疼算怎么...</td>\n",
       "      <td>m</td>\n",
       "    </tr>\n",
       "    <tr>\n",
       "      <th>4</th>\n",
       "      <td>1427591573</td>\n",
       "      <td>0.130364</td>\n",
       "      <td>0.130364</td>\n",
       "      <td>4.935154</td>\n",
       "      <td>22</td>\n",
       "      <td>哈哈，太好玩了一万年，这世上没人比她好 看看大家怎么说&gt;&gt;http://t.cn/zW4VG...</td>\n",
       "      <td>m</td>\n",
       "    </tr>\n",
       "  </tbody>\n",
       "</table>\n",
       "</div>"
      ],
      "text/plain": [
       "      user_id  comment_count  reposts_count  timeRating  locaRating  \\\n",
       "0  1427583973       0.324443       0.324443    3.503905          33   \n",
       "1  1427587605       1.333277       1.333277    3.504647          33   \n",
       "2  1427589977       0.091503       0.091503    3.457516          15   \n",
       "3  1427590831       0.302523       0.302523    3.564042          32   \n",
       "4  1427591573       0.130364       0.130364    4.935154          22   \n",
       "\n",
       "                                                text gender  \n",
       "0  “雅思口语评分标准”共5讲，5个视频，由新东方谢绍东老师主讲。课程主要内容包括“雅思口语评分...      m  \n",
       "1  MD，人类早晚要被吃货给毁了！//@编剧肖言: 还能再狠点儿吗，这群臭SB不怕报应就吃吧//...      m  \n",
       "2  大家帮忙投下C组冯湲http://t.cn/zjxrUmM我参与了@小银星艺术团 发起的投票...      m  \n",
       "3  等变潇洒哥了的时候我们也包个场@ACE大卫 @吉o0snake 这货今天喝大了打球头疼算怎么...      m  \n",
       "4  哈哈，太好玩了一万年，这世上没人比她好 看看大家怎么说>>http://t.cn/zW4VG...      m  "
      ]
     },
     "execution_count": 12,
     "metadata": {},
     "output_type": "execute_result"
    }
   ],
   "source": [
    "full.head()"
   ]
  },
  {
   "cell_type": "markdown",
   "metadata": {},
   "source": [
    "#### 地域数值的one-hot编码"
   ]
  },
  {
   "cell_type": "code",
   "execution_count": 13,
   "metadata": {},
   "outputs": [],
   "source": [
    "loc_Df = pd.DataFrame()\n",
    "loc_Df = pd.get_dummies(full['locaRating'], prefix = 'local')"
   ]
  },
  {
   "cell_type": "code",
   "execution_count": 14,
   "metadata": {
    "scrolled": false
   },
   "outputs": [],
   "source": [
    "temp = full.drop(['locaRating'], axis = 1)\n",
    "fullPrepared = pd.concat([temp, loc_Df], axis = 1)"
   ]
  },
  {
   "cell_type": "code",
   "execution_count": 15,
   "metadata": {},
   "outputs": [
    {
     "data": {
      "text/html": [
       "<div>\n",
       "<style>\n",
       "    .dataframe thead tr:only-child th {\n",
       "        text-align: right;\n",
       "    }\n",
       "\n",
       "    .dataframe thead th {\n",
       "        text-align: left;\n",
       "    }\n",
       "\n",
       "    .dataframe tbody tr th {\n",
       "        vertical-align: top;\n",
       "    }\n",
       "</style>\n",
       "<table border=\"1\" class=\"dataframe\">\n",
       "  <thead>\n",
       "    <tr style=\"text-align: right;\">\n",
       "      <th></th>\n",
       "      <th>user_id</th>\n",
       "      <th>comment_count</th>\n",
       "      <th>reposts_count</th>\n",
       "      <th>timeRating</th>\n",
       "      <th>text</th>\n",
       "      <th>gender</th>\n",
       "      <th>local_1</th>\n",
       "      <th>local_2</th>\n",
       "      <th>local_3</th>\n",
       "      <th>local_4</th>\n",
       "      <th>...</th>\n",
       "      <th>local_27</th>\n",
       "      <th>local_28</th>\n",
       "      <th>local_29</th>\n",
       "      <th>local_30</th>\n",
       "      <th>local_31</th>\n",
       "      <th>local_32</th>\n",
       "      <th>local_33</th>\n",
       "      <th>local_34</th>\n",
       "      <th>local_36</th>\n",
       "      <th>local_37</th>\n",
       "    </tr>\n",
       "  </thead>\n",
       "  <tbody>\n",
       "    <tr>\n",
       "      <th>0</th>\n",
       "      <td>1427583973</td>\n",
       "      <td>0.324443</td>\n",
       "      <td>0.324443</td>\n",
       "      <td>3.503905</td>\n",
       "      <td>“雅思口语评分标准”共5讲，5个视频，由新东方谢绍东老师主讲。课程主要内容包括“雅思口语评分...</td>\n",
       "      <td>m</td>\n",
       "      <td>0</td>\n",
       "      <td>0</td>\n",
       "      <td>0</td>\n",
       "      <td>0</td>\n",
       "      <td>...</td>\n",
       "      <td>0</td>\n",
       "      <td>0</td>\n",
       "      <td>0</td>\n",
       "      <td>0</td>\n",
       "      <td>0</td>\n",
       "      <td>0</td>\n",
       "      <td>1</td>\n",
       "      <td>0</td>\n",
       "      <td>0</td>\n",
       "      <td>0</td>\n",
       "    </tr>\n",
       "    <tr>\n",
       "      <th>1</th>\n",
       "      <td>1427587605</td>\n",
       "      <td>1.333277</td>\n",
       "      <td>1.333277</td>\n",
       "      <td>3.504647</td>\n",
       "      <td>MD，人类早晚要被吃货给毁了！//@编剧肖言: 还能再狠点儿吗，这群臭SB不怕报应就吃吧//...</td>\n",
       "      <td>m</td>\n",
       "      <td>0</td>\n",
       "      <td>0</td>\n",
       "      <td>0</td>\n",
       "      <td>0</td>\n",
       "      <td>...</td>\n",
       "      <td>0</td>\n",
       "      <td>0</td>\n",
       "      <td>0</td>\n",
       "      <td>0</td>\n",
       "      <td>0</td>\n",
       "      <td>0</td>\n",
       "      <td>1</td>\n",
       "      <td>0</td>\n",
       "      <td>0</td>\n",
       "      <td>0</td>\n",
       "    </tr>\n",
       "    <tr>\n",
       "      <th>2</th>\n",
       "      <td>1427589977</td>\n",
       "      <td>0.091503</td>\n",
       "      <td>0.091503</td>\n",
       "      <td>3.457516</td>\n",
       "      <td>大家帮忙投下C组冯湲http://t.cn/zjxrUmM我参与了@小银星艺术团 发起的投票...</td>\n",
       "      <td>m</td>\n",
       "      <td>0</td>\n",
       "      <td>0</td>\n",
       "      <td>0</td>\n",
       "      <td>0</td>\n",
       "      <td>...</td>\n",
       "      <td>0</td>\n",
       "      <td>0</td>\n",
       "      <td>0</td>\n",
       "      <td>0</td>\n",
       "      <td>0</td>\n",
       "      <td>0</td>\n",
       "      <td>0</td>\n",
       "      <td>0</td>\n",
       "      <td>0</td>\n",
       "      <td>0</td>\n",
       "    </tr>\n",
       "    <tr>\n",
       "      <th>3</th>\n",
       "      <td>1427590831</td>\n",
       "      <td>0.302523</td>\n",
       "      <td>0.302523</td>\n",
       "      <td>3.564042</td>\n",
       "      <td>等变潇洒哥了的时候我们也包个场@ACE大卫 @吉o0snake 这货今天喝大了打球头疼算怎么...</td>\n",
       "      <td>m</td>\n",
       "      <td>0</td>\n",
       "      <td>0</td>\n",
       "      <td>0</td>\n",
       "      <td>0</td>\n",
       "      <td>...</td>\n",
       "      <td>0</td>\n",
       "      <td>0</td>\n",
       "      <td>0</td>\n",
       "      <td>0</td>\n",
       "      <td>0</td>\n",
       "      <td>1</td>\n",
       "      <td>0</td>\n",
       "      <td>0</td>\n",
       "      <td>0</td>\n",
       "      <td>0</td>\n",
       "    </tr>\n",
       "    <tr>\n",
       "      <th>4</th>\n",
       "      <td>1427591573</td>\n",
       "      <td>0.130364</td>\n",
       "      <td>0.130364</td>\n",
       "      <td>4.935154</td>\n",
       "      <td>哈哈，太好玩了一万年，这世上没人比她好 看看大家怎么说&gt;&gt;http://t.cn/zW4VG...</td>\n",
       "      <td>m</td>\n",
       "      <td>0</td>\n",
       "      <td>0</td>\n",
       "      <td>0</td>\n",
       "      <td>0</td>\n",
       "      <td>...</td>\n",
       "      <td>0</td>\n",
       "      <td>0</td>\n",
       "      <td>0</td>\n",
       "      <td>0</td>\n",
       "      <td>0</td>\n",
       "      <td>0</td>\n",
       "      <td>0</td>\n",
       "      <td>0</td>\n",
       "      <td>0</td>\n",
       "      <td>0</td>\n",
       "    </tr>\n",
       "  </tbody>\n",
       "</table>\n",
       "<p>5 rows × 41 columns</p>\n",
       "</div>"
      ],
      "text/plain": [
       "      user_id  comment_count  reposts_count  timeRating  \\\n",
       "0  1427583973       0.324443       0.324443    3.503905   \n",
       "1  1427587605       1.333277       1.333277    3.504647   \n",
       "2  1427589977       0.091503       0.091503    3.457516   \n",
       "3  1427590831       0.302523       0.302523    3.564042   \n",
       "4  1427591573       0.130364       0.130364    4.935154   \n",
       "\n",
       "                                                text gender  local_1  local_2  \\\n",
       "0  “雅思口语评分标准”共5讲，5个视频，由新东方谢绍东老师主讲。课程主要内容包括“雅思口语评分...      m        0        0   \n",
       "1  MD，人类早晚要被吃货给毁了！//@编剧肖言: 还能再狠点儿吗，这群臭SB不怕报应就吃吧//...      m        0        0   \n",
       "2  大家帮忙投下C组冯湲http://t.cn/zjxrUmM我参与了@小银星艺术团 发起的投票...      m        0        0   \n",
       "3  等变潇洒哥了的时候我们也包个场@ACE大卫 @吉o0snake 这货今天喝大了打球头疼算怎么...      m        0        0   \n",
       "4  哈哈，太好玩了一万年，这世上没人比她好 看看大家怎么说>>http://t.cn/zW4VG...      m        0        0   \n",
       "\n",
       "   local_3  local_4    ...     local_27  local_28  local_29  local_30  \\\n",
       "0        0        0    ...            0         0         0         0   \n",
       "1        0        0    ...            0         0         0         0   \n",
       "2        0        0    ...            0         0         0         0   \n",
       "3        0        0    ...            0         0         0         0   \n",
       "4        0        0    ...            0         0         0         0   \n",
       "\n",
       "   local_31  local_32  local_33  local_34  local_36  local_37  \n",
       "0         0         0         1         0         0         0  \n",
       "1         0         0         1         0         0         0  \n",
       "2         0         0         0         0         0         0  \n",
       "3         0         1         0         0         0         0  \n",
       "4         0         0         0         0         0         0  \n",
       "\n",
       "[5 rows x 41 columns]"
      ]
     },
     "execution_count": 15,
     "metadata": {},
     "output_type": "execute_result"
    }
   ],
   "source": [
    "fullPrepared.head()"
   ]
  },
  {
   "cell_type": "markdown",
   "metadata": {},
   "source": [
    "#### 导出为.csv文件"
   ]
  },
  {
   "cell_type": "code",
   "execution_count": 16,
   "metadata": {},
   "outputs": [],
   "source": [
    "fullPrepared.to_csv( 'full.csv' , index = False , encoding = 'utf-8')"
   ]
  },
  {
   "cell_type": "markdown",
   "metadata": {},
   "source": [
    "---\n",
    "** 记录程序时间 **\n",
    "\n",
    "---"
   ]
  },
  {
   "cell_type": "code",
   "execution_count": 17,
   "metadata": {},
   "outputs": [
    {
     "name": "stdout",
     "output_type": "stream",
     "text": [
      "0:02:51.263796\n"
     ]
    }
   ],
   "source": [
    "endTime = datetime.datetime.now()\n",
    "print(endTime - startTime)"
   ]
  }
 ],
 "metadata": {
  "kernelspec": {
   "display_name": "Python [conda env:py3]",
   "language": "python",
   "name": "conda-env-py3-py"
  },
  "language_info": {
   "codemirror_mode": {
    "name": "ipython",
    "version": 3
   },
   "file_extension": ".py",
   "mimetype": "text/x-python",
   "name": "python",
   "nbconvert_exporter": "python",
   "pygments_lexer": "ipython3",
   "version": "3.6.2"
  }
 },
 "nbformat": 4,
 "nbformat_minor": 2
}
